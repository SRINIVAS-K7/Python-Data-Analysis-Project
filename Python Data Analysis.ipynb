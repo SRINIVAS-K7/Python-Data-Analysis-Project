{
 "cells": [
  {
   "cell_type": "markdown",
   "id": "c03fcf5a",
   "metadata": {},
   "source": [
    "#  Data Importing Or Loading\n",
    "# ----------------------------------------"
   ]
  },
  {
   "cell_type": "code",
   "execution_count": 2,
   "id": "6fabda9a",
   "metadata": {},
   "outputs": [],
   "source": [
    "import pandas as pd\n",
    "import numpy as np"
   ]
  },
  {
   "cell_type": "code",
   "execution_count": 3,
   "id": "d3b8017e",
   "metadata": {},
   "outputs": [
    {
     "name": "stdout",
     "output_type": "stream",
     "text": [
      "         id  gender   age  hypertension  heart_disease ever_married  \\\n",
      "0      9046    Male  67.0             0              1          Yes   \n",
      "1     51676  Female  61.0             0              0          Yes   \n",
      "2     31112    Male  80.0             0              1          Yes   \n",
      "3     60182  Female  49.0             0              0          Yes   \n",
      "4      1665  Female  79.0             1              0          Yes   \n",
      "...     ...     ...   ...           ...            ...          ...   \n",
      "5105  18234  Female  80.0             1              0          Yes   \n",
      "5106  44873  Female  81.0             0              0          Yes   \n",
      "5107  19723  Female  35.0             0              0          Yes   \n",
      "5108  37544    Male  51.0             0              0          Yes   \n",
      "5109  44679  Female  44.0             0              0          Yes   \n",
      "\n",
      "          work_type Residence_type  avg_glucose_level   bmi   smoking_status  \\\n",
      "0           Private          Urban             228.69  36.6  formerly smoked   \n",
      "1     Self-employed          Rural             202.21   NaN     never smoked   \n",
      "2           Private          Rural             105.92  32.5     never smoked   \n",
      "3           Private          Urban             171.23  34.4           smokes   \n",
      "4     Self-employed          Rural             174.12  24.0     never smoked   \n",
      "...             ...            ...                ...   ...              ...   \n",
      "5105        Private          Urban              83.75   NaN     never smoked   \n",
      "5106  Self-employed          Urban             125.20  40.0     never smoked   \n",
      "5107  Self-employed          Rural              82.99  30.6     never smoked   \n",
      "5108        Private          Rural             166.29  25.6  formerly smoked   \n",
      "5109       Govt_job          Urban              85.28  26.2          Unknown   \n",
      "\n",
      "      stroke  \n",
      "0          1  \n",
      "1          1  \n",
      "2          1  \n",
      "3          1  \n",
      "4          1  \n",
      "...      ...  \n",
      "5105       0  \n",
      "5106       0  \n",
      "5107       0  \n",
      "5108       0  \n",
      "5109       0  \n",
      "\n",
      "[5110 rows x 12 columns]\n"
     ]
    }
   ],
   "source": [
    "df = pd.read_csv(r\"C:\\Users\\Srinivas\\Downloads\\Data Analytics\\Python\\healthcare-dataset-stroke-data.csv\")\n",
    "print(df)"
   ]
  },
  {
   "cell_type": "markdown",
   "id": "cf1311cc",
   "metadata": {},
   "source": [
    "#  Basic Data Inspection \n",
    "# ----------------------------------------"
   ]
  },
  {
   "cell_type": "code",
   "execution_count": 4,
   "id": "60b6a83f",
   "metadata": {},
   "outputs": [
    {
     "name": "stdout",
     "output_type": "stream",
     "text": [
      "      id  gender   age  hypertension  heart_disease ever_married  \\\n",
      "0   9046    Male  67.0             0              1          Yes   \n",
      "1  51676  Female  61.0             0              0          Yes   \n",
      "2  31112    Male  80.0             0              1          Yes   \n",
      "3  60182  Female  49.0             0              0          Yes   \n",
      "4   1665  Female  79.0             1              0          Yes   \n",
      "\n",
      "       work_type Residence_type  avg_glucose_level   bmi   smoking_status  \\\n",
      "0        Private          Urban             228.69  36.6  formerly smoked   \n",
      "1  Self-employed          Rural             202.21   NaN     never smoked   \n",
      "2        Private          Rural             105.92  32.5     never smoked   \n",
      "3        Private          Urban             171.23  34.4           smokes   \n",
      "4  Self-employed          Rural             174.12  24.0     never smoked   \n",
      "\n",
      "   stroke  \n",
      "0       1  \n",
      "1       1  \n",
      "2       1  \n",
      "3       1  \n",
      "4       1  \n"
     ]
    }
   ],
   "source": [
    "print(df.head())"
   ]
  },
  {
   "cell_type": "code",
   "execution_count": 5,
   "id": "ed4555a0",
   "metadata": {},
   "outputs": [
    {
     "name": "stdout",
     "output_type": "stream",
     "text": [
      "         id  gender   age  hypertension  heart_disease ever_married  \\\n",
      "5105  18234  Female  80.0             1              0          Yes   \n",
      "5106  44873  Female  81.0             0              0          Yes   \n",
      "5107  19723  Female  35.0             0              0          Yes   \n",
      "5108  37544    Male  51.0             0              0          Yes   \n",
      "5109  44679  Female  44.0             0              0          Yes   \n",
      "\n",
      "          work_type Residence_type  avg_glucose_level   bmi   smoking_status  \\\n",
      "5105        Private          Urban              83.75   NaN     never smoked   \n",
      "5106  Self-employed          Urban             125.20  40.0     never smoked   \n",
      "5107  Self-employed          Rural              82.99  30.6     never smoked   \n",
      "5108        Private          Rural             166.29  25.6  formerly smoked   \n",
      "5109       Govt_job          Urban              85.28  26.2          Unknown   \n",
      "\n",
      "      stroke  \n",
      "5105       0  \n",
      "5106       0  \n",
      "5107       0  \n",
      "5108       0  \n",
      "5109       0  \n"
     ]
    }
   ],
   "source": [
    "print(df.tail())"
   ]
  },
  {
   "cell_type": "code",
   "execution_count": 6,
   "id": "86b9a832",
   "metadata": {},
   "outputs": [
    {
     "name": "stdout",
     "output_type": "stream",
     "text": [
      "(5110, 12)\n"
     ]
    }
   ],
   "source": [
    "print(df.shape)"
   ]
  },
  {
   "cell_type": "code",
   "execution_count": 7,
   "id": "0a749475",
   "metadata": {},
   "outputs": [
    {
     "name": "stdout",
     "output_type": "stream",
     "text": [
      "Index(['id', 'gender', 'age', 'hypertension', 'heart_disease', 'ever_married',\n",
      "       'work_type', 'Residence_type', 'avg_glucose_level', 'bmi',\n",
      "       'smoking_status', 'stroke'],\n",
      "      dtype='object')\n"
     ]
    }
   ],
   "source": [
    "print(df.columns)"
   ]
  },
  {
   "cell_type": "code",
   "execution_count": 8,
   "id": "c64dbbf1",
   "metadata": {},
   "outputs": [
    {
     "name": "stdout",
     "output_type": "stream",
     "text": [
      "id                     int64\n",
      "gender                object\n",
      "age                  float64\n",
      "hypertension           int64\n",
      "heart_disease          int64\n",
      "ever_married          object\n",
      "work_type             object\n",
      "Residence_type        object\n",
      "avg_glucose_level    float64\n",
      "bmi                  float64\n",
      "smoking_status        object\n",
      "stroke                 int64\n",
      "dtype: object\n"
     ]
    }
   ],
   "source": [
    "print(df.dtypes)"
   ]
  },
  {
   "cell_type": "code",
   "execution_count": 9,
   "id": "60915d16",
   "metadata": {},
   "outputs": [
    {
     "name": "stdout",
     "output_type": "stream",
     "text": [
      "<class 'pandas.core.frame.DataFrame'>\n",
      "RangeIndex: 5110 entries, 0 to 5109\n",
      "Data columns (total 12 columns):\n",
      " #   Column             Non-Null Count  Dtype  \n",
      "---  ------             --------------  -----  \n",
      " 0   id                 5110 non-null   int64  \n",
      " 1   gender             5110 non-null   object \n",
      " 2   age                5110 non-null   float64\n",
      " 3   hypertension       5110 non-null   int64  \n",
      " 4   heart_disease      5110 non-null   int64  \n",
      " 5   ever_married       5110 non-null   object \n",
      " 6   work_type          5110 non-null   object \n",
      " 7   Residence_type     5110 non-null   object \n",
      " 8   avg_glucose_level  5110 non-null   float64\n",
      " 9   bmi                4909 non-null   float64\n",
      " 10  smoking_status     5110 non-null   object \n",
      " 11  stroke             5110 non-null   int64  \n",
      "dtypes: float64(3), int64(4), object(5)\n",
      "memory usage: 479.2+ KB\n",
      "None\n"
     ]
    }
   ],
   "source": [
    "print(df.info())"
   ]
  },
  {
   "cell_type": "code",
   "execution_count": 10,
   "id": "28812e0a",
   "metadata": {},
   "outputs": [
    {
     "name": "stdout",
     "output_type": "stream",
     "text": [
      "                 id          age  hypertension  heart_disease  \\\n",
      "count   5110.000000  5110.000000   5110.000000    5110.000000   \n",
      "mean   36517.829354    43.226614      0.097456       0.054012   \n",
      "std    21161.721625    22.612647      0.296607       0.226063   \n",
      "min       67.000000     0.080000      0.000000       0.000000   \n",
      "25%    17741.250000    25.000000      0.000000       0.000000   \n",
      "50%    36932.000000    45.000000      0.000000       0.000000   \n",
      "75%    54682.000000    61.000000      0.000000       0.000000   \n",
      "max    72940.000000    82.000000      1.000000       1.000000   \n",
      "\n",
      "       avg_glucose_level          bmi       stroke  \n",
      "count        5110.000000  4909.000000  5110.000000  \n",
      "mean          106.147677    28.893237     0.048728  \n",
      "std            45.283560     7.854067     0.215320  \n",
      "min            55.120000    10.300000     0.000000  \n",
      "25%            77.245000    23.500000     0.000000  \n",
      "50%            91.885000    28.100000     0.000000  \n",
      "75%           114.090000    33.100000     0.000000  \n",
      "max           271.740000    97.600000     1.000000  \n"
     ]
    }
   ],
   "source": [
    "print(df.describe())"
   ]
  },
  {
   "cell_type": "markdown",
   "id": "e8a49dac",
   "metadata": {},
   "source": [
    "#  Cleaning Data \n",
    "# ----------------------------------------"
   ]
  },
  {
   "cell_type": "code",
   "execution_count": 11,
   "id": "80c8210d",
   "metadata": {},
   "outputs": [
    {
     "name": "stdout",
     "output_type": "stream",
     "text": [
      "id                     0\n",
      "gender                 0\n",
      "age                    0\n",
      "hypertension           0\n",
      "heart_disease          0\n",
      "ever_married           0\n",
      "work_type              0\n",
      "Residence_type         0\n",
      "avg_glucose_level      0\n",
      "bmi                  201\n",
      "smoking_status         0\n",
      "stroke                 0\n",
      "dtype: int64\n"
     ]
    }
   ],
   "source": [
    "print(df.isnull().sum())"
   ]
  },
  {
   "cell_type": "code",
   "execution_count": 12,
   "id": "5da54b59",
   "metadata": {},
   "outputs": [],
   "source": [
    "df.drop_duplicates(inplace=True)"
   ]
  },
  {
   "cell_type": "code",
   "execution_count": 13,
   "id": "1532c70c",
   "metadata": {},
   "outputs": [
    {
     "name": "stdout",
     "output_type": "stream",
     "text": [
      "0         Male\n",
      "1       Female\n",
      "2         Male\n",
      "3       Female\n",
      "4       Female\n",
      "         ...  \n",
      "5105    Female\n",
      "5106    Female\n",
      "5107    Female\n",
      "5108      Male\n",
      "5109    Female\n",
      "Name: gender, Length: 5109, dtype: object\n"
     ]
    }
   ],
   "source": [
    "df = df[df['gender'] != 'Other']\n",
    "print(df['gender'])"
   ]
  },
  {
   "cell_type": "code",
   "execution_count": 14,
   "id": "c79d99ef",
   "metadata": {},
   "outputs": [
    {
     "name": "stdout",
     "output_type": "stream",
     "text": [
      "         id  gender   age  hypertension  heart_disease ever_married  \\\n",
      "0      9046    Male  67.0             0              1          Yes   \n",
      "1     51676  Female  61.0             0              0          Yes   \n",
      "2     31112    Male  80.0             0              1          Yes   \n",
      "3     60182  Female  49.0             0              0          Yes   \n",
      "4      1665  Female  79.0             1              0          Yes   \n",
      "...     ...     ...   ...           ...            ...          ...   \n",
      "5105  18234  Female  80.0             1              0          Yes   \n",
      "5106  44873  Female  81.0             0              0          Yes   \n",
      "5107  19723  Female  35.0             0              0          Yes   \n",
      "5108  37544    Male  51.0             0              0          Yes   \n",
      "5109  44679  Female  44.0             0              0          Yes   \n",
      "\n",
      "          work_type Residence_type  avg_glucose_level   bmi   smoking_status  \\\n",
      "0           Private          Urban             228.69  36.6  formerly smoked   \n",
      "1     Self-employed          Rural             202.21   NaN     never smoked   \n",
      "2           Private          Rural             105.92  32.5     never smoked   \n",
      "3           Private          Urban             171.23  34.4           smokes   \n",
      "4     Self-employed          Rural             174.12  24.0     never smoked   \n",
      "...             ...            ...                ...   ...              ...   \n",
      "5105        Private          Urban              83.75   NaN     never smoked   \n",
      "5106  Self-employed          Urban             125.20  40.0     never smoked   \n",
      "5107  Self-employed          Rural              82.99  30.6     never smoked   \n",
      "5108        Private          Rural             166.29  25.6  formerly smoked   \n",
      "5109       Govt_job          Urban              85.28  26.2          Unknown   \n",
      "\n",
      "      stroke  \n",
      "0          1  \n",
      "1          1  \n",
      "2          1  \n",
      "3          1  \n",
      "4          1  \n",
      "...      ...  \n",
      "5105       0  \n",
      "5106       0  \n",
      "5107       0  \n",
      "5108       0  \n",
      "5109       0  \n",
      "\n",
      "[4989 rows x 12 columns]\n"
     ]
    }
   ],
   "source": [
    "df = df[df['age'] >= 2]\n",
    "print(df)"
   ]
  },
  {
   "cell_type": "code",
   "execution_count": 15,
   "id": "070bc77b",
   "metadata": {},
   "outputs": [
    {
     "name": "stdout",
     "output_type": "stream",
     "text": [
      "         id  gender   age  hypertension  heart_disease ever_married  \\\n",
      "0      9046    Male  67.0             0              1          Yes   \n",
      "1     51676  Female  61.0             0              0          Yes   \n",
      "2     31112    Male  80.0             0              1          Yes   \n",
      "3     60182  Female  49.0             0              0          Yes   \n",
      "4      1665  Female  79.0             1              0          Yes   \n",
      "...     ...     ...   ...           ...            ...          ...   \n",
      "5102  45010  Female  57.0             0              0          Yes   \n",
      "5105  18234  Female  80.0             1              0          Yes   \n",
      "5106  44873  Female  81.0             0              0          Yes   \n",
      "5107  19723  Female  35.0             0              0          Yes   \n",
      "5108  37544    Male  51.0             0              0          Yes   \n",
      "\n",
      "          work_type Residence_type  avg_glucose_level   bmi   smoking_status  \\\n",
      "0           Private          Urban             228.69  36.6  formerly smoked   \n",
      "1     Self-employed          Rural             202.21   NaN     never smoked   \n",
      "2           Private          Rural             105.92  32.5     never smoked   \n",
      "3           Private          Urban             171.23  34.4           smokes   \n",
      "4     Self-employed          Rural             174.12  24.0     never smoked   \n",
      "...             ...            ...                ...   ...              ...   \n",
      "5102        Private          Rural              77.93  21.7     never smoked   \n",
      "5105        Private          Urban              83.75   NaN     never smoked   \n",
      "5106  Self-employed          Urban             125.20  40.0     never smoked   \n",
      "5107  Self-employed          Rural              82.99  30.6     never smoked   \n",
      "5108        Private          Rural             166.29  25.6  formerly smoked   \n",
      "\n",
      "      stroke  \n",
      "0          1  \n",
      "1          1  \n",
      "2          1  \n",
      "3          1  \n",
      "4          1  \n",
      "...      ...  \n",
      "5102       0  \n",
      "5105       0  \n",
      "5106       0  \n",
      "5107       0  \n",
      "5108       0  \n",
      "\n",
      "[3565 rows x 12 columns]\n"
     ]
    }
   ],
   "source": [
    "df = df[df['smoking_status'] != 'Unknown']\n",
    "print(df)"
   ]
  },
  {
   "cell_type": "code",
   "execution_count": 16,
   "id": "b965acc1",
   "metadata": {},
   "outputs": [
    {
     "name": "stdout",
     "output_type": "stream",
     "text": [
      "         id  gender   age  hypertension  heart_disease ever_married  \\\n",
      "0      9046    Male  67.0             0              1          Yes   \n",
      "1     51676  Female  61.0             0              0          Yes   \n",
      "2     31112    Male  80.0             0              1          Yes   \n",
      "3     60182  Female  49.0             0              0          Yes   \n",
      "4      1665  Female  79.0             1              0          Yes   \n",
      "...     ...     ...   ...           ...            ...          ...   \n",
      "5102  45010  Female  57.0             0              0          Yes   \n",
      "5105  18234  Female  80.0             1              0          Yes   \n",
      "5106  44873  Female  81.0             0              0          Yes   \n",
      "5107  19723  Female  35.0             0              0          Yes   \n",
      "5108  37544    Male  51.0             0              0          Yes   \n",
      "\n",
      "          work_type Residence_type  avg_glucose_level   bmi   smoking_status  \\\n",
      "0           Private          Urban             228.69  36.6  formerly smoked   \n",
      "1     Self-employed          Rural             202.21   NaN     never smoked   \n",
      "2           Private          Rural             105.92  32.5     never smoked   \n",
      "3           Private          Urban             171.23  34.4           smokes   \n",
      "4     Self-employed          Rural             174.12  24.0     never smoked   \n",
      "...             ...            ...                ...   ...              ...   \n",
      "5102        Private          Rural              77.93  21.7     never smoked   \n",
      "5105        Private          Urban              83.75   NaN     never smoked   \n",
      "5106  Self-employed          Urban             125.20  40.0     never smoked   \n",
      "5107  Self-employed          Rural              82.99  30.6     never smoked   \n",
      "5108        Private          Rural             166.29  25.6  formerly smoked   \n",
      "\n",
      "      stroke  \n",
      "0          1  \n",
      "1          1  \n",
      "2          1  \n",
      "3          1  \n",
      "4          1  \n",
      "...      ...  \n",
      "5102       0  \n",
      "5105       0  \n",
      "5106       0  \n",
      "5107       0  \n",
      "5108       0  \n",
      "\n",
      "[3565 rows x 12 columns]\n"
     ]
    }
   ],
   "source": [
    "df = df[df['bmi'] != 'N/A']\n",
    "print(df)"
   ]
  },
  {
   "cell_type": "code",
   "execution_count": 17,
   "id": "e8f66e20",
   "metadata": {},
   "outputs": [
    {
     "name": "stdout",
     "output_type": "stream",
     "text": [
      "[36.6  nan 32.5 34.4 24.  29.  27.4 22.8 29.7 36.8 27.3 28.2 30.9 37.5\n",
      " 25.8 37.8 22.4 48.9 26.6 27.2 23.5 28.3 44.2 22.2 30.5 26.5 33.7 23.1\n",
      " 29.9 23.9 28.5 26.4 20.2 33.6 38.6 39.2 27.7 31.4 36.5 33.2 32.8 40.4\n",
      " 25.3 30.2 47.5 30.  28.9 28.1 31.1 21.7 27.  24.1 22.9 29.1 32.3 41.1\n",
      " 29.8 26.3 29.4 24.4 28.  34.6 30.3 24.2 41.5 22.6 56.6 31.3 31.  31.7\n",
      " 35.8 28.4 20.1 26.7 38.7 25.  23.8 21.8 27.5 24.6 32.9 26.1 31.9 34.1\n",
      " 25.6 36.9 37.3 45.7 34.2 23.6 22.3 37.1 45.  25.5 30.8 32.  37.4 34.5\n",
      " 27.9 29.5 46.  42.5 35.5 26.9 45.5 31.5 33.  23.4 30.7 20.5 21.5 27.1\n",
      " 40.  28.6 42.2 29.6 35.4 16.9 32.6 35.9 21.2 42.4 40.5 29.3 17.7 54.6\n",
      " 22.  39.4 19.7 22.5 25.2 60.9 23.7 24.5 31.2 25.1 36.  26.8 34.9 35.3\n",
      " 36.7 34.3 27.6 24.3 40.1 21.9 38.4 25.9 54.7 24.9 19.4 48.2 20.7 39.5\n",
      " 23.3 64.8 43.6 21.  47.3 31.6 21.6 35.6 41.8 41.9 29.2 37.9 44.6 39.6\n",
      " 40.3 24.8 36.1 36.3 25.4 46.5 46.6 26.2 31.8 15.3 38.2 23.2 45.2 49.8\n",
      " 27.8 60.2 23.  51.  39.7 34.7 21.3 41.2 34.8 35.7 21.4 40.8 41.6 32.4\n",
      " 34.  32.1 20.4 30.6 71.9 40.6 21.1 32.2 50.2 18.7 42.1 40.9 47.8 20.8\n",
      " 30.1 17.3 36.4 28.7 22.1 55.7 28.8 19.5 43.  41.7 16.7 33.8 43.9 22.7\n",
      " 57.5 37.  38.5 44.  54.2 40.2 33.3 41.3 35.  20.9 32.7 46.1 24.7 33.1\n",
      " 43.8 50.3 38.9 39.9 35.2 78.  38.3 41.  42.6 43.4 20.6 33.5 43.2 30.4\n",
      " 38.  33.4 44.9 44.7 26.  36.2 37.6 39.8 35.1 53.4 44.3 55.2 37.2 42.8\n",
      " 18.8 17.6 43.7 42.9 48.4 43.1 39.  46.2 49.5 43.3 19.3 44.5 45.4 54.8\n",
      " 20.3 33.9 17.2 17.9 20.  52.8 55.1 48.5 55.9 57.3 15.7 18.3 56.  19.8\n",
      " 44.8 16.1 19.2 51.8 16.4 39.3 19.9 38.1 57.7 14.1 44.4 38.8 25.7 49.3\n",
      " 42.3 54.  56.1 17.4 17.1 11.5 41.4 49.4 45.1 49.2 48.7 42.7 48.8 52.7\n",
      " 16.2 18.5 53.5 50.5 45.3 16.  51.9 63.3 40.7 18.6 45.9 48.  46.8 50.1\n",
      " 48.3 17.8 39.1 58.1 18.2 37.7 50.4 18.1 15.  19.1 59.7 47.4 52.9 61.6\n",
      " 49.9 54.3 47.9 16.6 55.  50.9 64.4 92.  17.  57.9 18.4 57.2 46.9 15.4\n",
      " 47.1 48.1 16.8 51.7 47.6 46.3 54.1]\n"
     ]
    }
   ],
   "source": [
    "print(df['bmi'].unique())"
   ]
  },
  {
   "cell_type": "markdown",
   "id": "d486f9c4",
   "metadata": {},
   "source": [
    "# EDA (Exploratory Data Analysis)\n",
    "# KPIs (Key Performance Indicators)"
   ]
  },
  {
   "cell_type": "code",
   "execution_count": null,
   "id": "23e4ef60",
   "metadata": {},
   "outputs": [
    {
     "name": "stdout",
     "output_type": "stream",
     "text": [
      "202\n"
     ]
    }
   ],
   "source": [
    "# Total Stroke Cases\n",
    "total_stroke_cases = df['stroke'].sum()\n",
    "print(total_stroke_cases)"
   ]
  },
  {
   "cell_type": "code",
   "execution_count": null,
   "id": "86e22b54",
   "metadata": {},
   "outputs": [
    {
     "name": "stdout",
     "output_type": "stream",
     "text": [
      "5.666199158485274\n"
     ]
    }
   ],
   "source": [
    "# Stroke rate\n",
    "stroke_rate = df['stroke'].mean() * 100\n",
    "print(stroke_rate)"
   ]
  },
  {
   "cell_type": "code",
   "execution_count": 22,
   "id": "2c6ab216",
   "metadata": {},
   "outputs": [
    {
     "name": "stdout",
     "output_type": "stream",
     "text": [
      "48.86030855539972\n"
     ]
    }
   ],
   "source": [
    "# Average age\n",
    "Average_age = df['age'].mean()\n",
    "print(Average_age)"
   ]
  },
  {
   "cell_type": "code",
   "execution_count": 23,
   "id": "3a98f72a",
   "metadata": {},
   "outputs": [
    {
     "name": "stdout",
     "output_type": "stream",
     "text": [
      "71.0\n"
     ]
    }
   ],
   "source": [
    "# Median age of stroke patients\n",
    "Avg_age_stroke_patient = df[df['stroke'] == 1]['age'].median()\n",
    "print(Avg_age_stroke_patient)"
   ]
  },
  {
   "cell_type": "code",
   "execution_count": 31,
   "id": "e67d57c4",
   "metadata": {},
   "outputs": [
    {
     "name": "stdout",
     "output_type": "stream",
     "text": [
      "17.105263157894736\n"
     ]
    }
   ],
   "source": [
    "# Stroke rate among heart disease patients\n",
    "Stroke_rate_heart_disease = df[df['heart_disease'] == 1]['stroke'].mean() * 100\n",
    "print(Stroke_rate_heart_disease)"
   ]
  },
  {
   "cell_type": "code",
   "execution_count": 32,
   "id": "7598219f",
   "metadata": {},
   "outputs": [
    {
     "name": "stdout",
     "output_type": "stream",
     "text": [
      "13.901345291479823\n"
     ]
    }
   ],
   "source": [
    "# Stroke rate among hypertensives\n",
    "Stroke_rate_hypertension = df[df['hypertension'] == 1]['stroke'].mean() * 100\n",
    "print(Stroke_rate_hypertension)"
   ]
  },
  {
   "cell_type": "code",
   "execution_count": 29,
   "id": "6070ba2a",
   "metadata": {},
   "outputs": [
    {
     "name": "stdout",
     "output_type": "stream",
     "text": [
      "134.34465346534654\n"
     ]
    }
   ],
   "source": [
    "# Avg glucose in stroke patients\n",
    "Avg_glucose = df[df['stroke'] == 1]['avg_glucose_level'].mean()\n",
    "print(Avg_glucose)"
   ]
  },
  {
   "cell_type": "code",
   "execution_count": 26,
   "id": "230dfbef",
   "metadata": {},
   "outputs": [
    {
     "name": "stdout",
     "output_type": "stream",
     "text": [
      "smoking_status\n",
      "formerly smoked    7.918552\n",
      "never smoked       4.756871\n",
      "smokes             5.323194\n",
      "Name: stroke, dtype: float64\n"
     ]
    }
   ],
   "source": [
    "# Stroke rate by smoking status\n",
    "Stroke_rate_smoking = df.groupby('smoking_status')['stroke'].mean() * 100\n",
    "print(Stroke_rate_smoking)"
   ]
  },
  {
   "cell_type": "code",
   "execution_count": 28,
   "id": "d1c6d106",
   "metadata": {},
   "outputs": [
    {
     "name": "stdout",
     "output_type": "stream",
     "text": [
      "22.131837307152875\n"
     ]
    }
   ],
   "source": [
    "# Current smokers %\n",
    "Current_smokers = (df['smoking_status'] == 'smokes').mean() * 100\n",
    "print(Current_smokers)"
   ]
  },
  {
   "cell_type": "code",
   "execution_count": 30,
   "id": "a681fbe6",
   "metadata": {},
   "outputs": [
    {
     "name": "stdout",
     "output_type": "stream",
     "text": [
      "ever_married\n",
      "No     2.456140\n",
      "Yes    6.678967\n",
      "Name: stroke, dtype: float64\n"
     ]
    }
   ],
   "source": [
    "# Stroke rate by marital status\n",
    "Stroke_rate_marital_status = df.groupby('ever_married')['stroke'].mean() * 100\n",
    "print(Stroke_rate_marital_status)"
   ]
  },
  {
   "cell_type": "code",
   "execution_count": 24,
   "id": "ee5fd67c",
   "metadata": {},
   "outputs": [
    {
     "name": "stdout",
     "output_type": "stream",
     "text": [
      "work_type\n",
      "Govt_job         4.672897\n",
      "Never_worked     0.000000\n",
      "Private          5.253940\n",
      "Self-employed    8.597285\n",
      "children         0.000000\n",
      "Name: stroke, dtype: float64\n"
     ]
    }
   ],
   "source": [
    "# Stroke rate by work type\n",
    "Stroke_rate_work_type = df.groupby('work_type')['stroke'].mean() * 100\n",
    "print(Stroke_rate_work_type)"
   ]
  },
  {
   "cell_type": "code",
   "execution_count": 25,
   "id": "64be8ba8",
   "metadata": {},
   "outputs": [
    {
     "name": "stdout",
     "output_type": "stream",
     "text": [
      "2.3281907433380082\n"
     ]
    }
   ],
   "source": [
    "# Unemployment rate\n",
    "Unemployment_rate = df['work_type'].isin(['children', 'Never_worked']).mean() * 100\n",
    "print(Unemployment_rate)"
   ]
  },
  {
   "cell_type": "code",
   "execution_count": null,
   "id": "a86177bc",
   "metadata": {},
   "outputs": [],
   "source": []
  },
  {
   "cell_type": "code",
   "execution_count": null,
   "id": "9436eae0",
   "metadata": {},
   "outputs": [],
   "source": []
  },
  {
   "cell_type": "code",
   "execution_count": null,
   "id": "06505c38",
   "metadata": {},
   "outputs": [],
   "source": []
  }
 ],
 "metadata": {
  "kernelspec": {
   "display_name": "Python 3",
   "language": "python",
   "name": "python3"
  },
  "language_info": {
   "codemirror_mode": {
    "name": "ipython",
    "version": 3
   },
   "file_extension": ".py",
   "mimetype": "text/x-python",
   "name": "python",
   "nbconvert_exporter": "python",
   "pygments_lexer": "ipython3",
   "version": "3.13.3"
  }
 },
 "nbformat": 4,
 "nbformat_minor": 5
}
